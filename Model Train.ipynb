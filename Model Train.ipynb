{
 "cells": [
  {
   "cell_type": "code",
   "execution_count": 1,
   "id": "c3d08dd6-66a4-433e-9c48-e32bf9a36fd8",
   "metadata": {},
   "outputs": [],
   "source": [
    "import pandas as pd"
   ]
  },
  {
   "cell_type": "code",
   "execution_count": 2,
   "id": "f3c58b00-3e06-4126-9ccc-04db43a56af6",
   "metadata": {},
   "outputs": [],
   "source": [
    "df=pd.read_csv(\"spotify_millsongdata.csv\")"
   ]
  },
  {
   "cell_type": "code",
   "execution_count": 3,
   "id": "30024793-e2d2-44f0-bd09-4d8bb22f4d82",
   "metadata": {},
   "outputs": [
    {
     "data": {
      "text/html": [
       "<div>\n",
       "<style scoped>\n",
       "    .dataframe tbody tr th:only-of-type {\n",
       "        vertical-align: middle;\n",
       "    }\n",
       "\n",
       "    .dataframe tbody tr th {\n",
       "        vertical-align: top;\n",
       "    }\n",
       "\n",
       "    .dataframe thead th {\n",
       "        text-align: right;\n",
       "    }\n",
       "</style>\n",
       "<table border=\"1\" class=\"dataframe\">\n",
       "  <thead>\n",
       "    <tr style=\"text-align: right;\">\n",
       "      <th></th>\n",
       "      <th>artist</th>\n",
       "      <th>song</th>\n",
       "      <th>link</th>\n",
       "      <th>text</th>\n",
       "    </tr>\n",
       "  </thead>\n",
       "  <tbody>\n",
       "    <tr>\n",
       "      <th>0</th>\n",
       "      <td>ABBA</td>\n",
       "      <td>Ahe's My Kind Of Girl</td>\n",
       "      <td>/a/abba/ahes+my+kind+of+girl_20598417.html</td>\n",
       "      <td>Look at her face, it's a wonderful face  \\r\\nA...</td>\n",
       "    </tr>\n",
       "    <tr>\n",
       "      <th>1</th>\n",
       "      <td>ABBA</td>\n",
       "      <td>Andante, Andante</td>\n",
       "      <td>/a/abba/andante+andante_20002708.html</td>\n",
       "      <td>Take it easy with me, please  \\r\\nTouch me gen...</td>\n",
       "    </tr>\n",
       "    <tr>\n",
       "      <th>2</th>\n",
       "      <td>ABBA</td>\n",
       "      <td>As Good As New</td>\n",
       "      <td>/a/abba/as+good+as+new_20003033.html</td>\n",
       "      <td>I'll never know why I had to go  \\r\\nWhy I had...</td>\n",
       "    </tr>\n",
       "    <tr>\n",
       "      <th>3</th>\n",
       "      <td>ABBA</td>\n",
       "      <td>Bang</td>\n",
       "      <td>/a/abba/bang_20598415.html</td>\n",
       "      <td>Making somebody happy is a question of give an...</td>\n",
       "    </tr>\n",
       "    <tr>\n",
       "      <th>4</th>\n",
       "      <td>ABBA</td>\n",
       "      <td>Bang-A-Boomerang</td>\n",
       "      <td>/a/abba/bang+a+boomerang_20002668.html</td>\n",
       "      <td>Making somebody happy is a question of give an...</td>\n",
       "    </tr>\n",
       "  </tbody>\n",
       "</table>\n",
       "</div>"
      ],
      "text/plain": [
       "  artist                   song                                        link  \\\n",
       "0   ABBA  Ahe's My Kind Of Girl  /a/abba/ahes+my+kind+of+girl_20598417.html   \n",
       "1   ABBA       Andante, Andante       /a/abba/andante+andante_20002708.html   \n",
       "2   ABBA         As Good As New        /a/abba/as+good+as+new_20003033.html   \n",
       "3   ABBA                   Bang                  /a/abba/bang_20598415.html   \n",
       "4   ABBA       Bang-A-Boomerang      /a/abba/bang+a+boomerang_20002668.html   \n",
       "\n",
       "                                                text  \n",
       "0  Look at her face, it's a wonderful face  \\r\\nA...  \n",
       "1  Take it easy with me, please  \\r\\nTouch me gen...  \n",
       "2  I'll never know why I had to go  \\r\\nWhy I had...  \n",
       "3  Making somebody happy is a question of give an...  \n",
       "4  Making somebody happy is a question of give an...  "
      ]
     },
     "execution_count": 3,
     "metadata": {},
     "output_type": "execute_result"
    }
   ],
   "source": [
    "df.head()"
   ]
  },
  {
   "cell_type": "code",
   "execution_count": 4,
   "id": "b84ef16b-6bc3-4cd2-8346-c40719224d19",
   "metadata": {},
   "outputs": [
    {
     "data": {
      "text/html": [
       "<div>\n",
       "<style scoped>\n",
       "    .dataframe tbody tr th:only-of-type {\n",
       "        vertical-align: middle;\n",
       "    }\n",
       "\n",
       "    .dataframe tbody tr th {\n",
       "        vertical-align: top;\n",
       "    }\n",
       "\n",
       "    .dataframe thead th {\n",
       "        text-align: right;\n",
       "    }\n",
       "</style>\n",
       "<table border=\"1\" class=\"dataframe\">\n",
       "  <thead>\n",
       "    <tr style=\"text-align: right;\">\n",
       "      <th></th>\n",
       "      <th>artist</th>\n",
       "      <th>song</th>\n",
       "      <th>link</th>\n",
       "      <th>text</th>\n",
       "    </tr>\n",
       "  </thead>\n",
       "  <tbody>\n",
       "    <tr>\n",
       "      <th>57645</th>\n",
       "      <td>Ziggy Marley</td>\n",
       "      <td>Good Old Days</td>\n",
       "      <td>/z/ziggy+marley/good+old+days_10198588.html</td>\n",
       "      <td>Irie days come on play  \\r\\nLet the angels fly...</td>\n",
       "    </tr>\n",
       "    <tr>\n",
       "      <th>57646</th>\n",
       "      <td>Ziggy Marley</td>\n",
       "      <td>Hand To Mouth</td>\n",
       "      <td>/z/ziggy+marley/hand+to+mouth_20531167.html</td>\n",
       "      <td>Power to the workers  \\r\\nMore power  \\r\\nPowe...</td>\n",
       "    </tr>\n",
       "    <tr>\n",
       "      <th>57647</th>\n",
       "      <td>Zwan</td>\n",
       "      <td>Come With Me</td>\n",
       "      <td>/z/zwan/come+with+me_20148981.html</td>\n",
       "      <td>all you need  \\r\\nis something i'll believe  \\...</td>\n",
       "    </tr>\n",
       "    <tr>\n",
       "      <th>57648</th>\n",
       "      <td>Zwan</td>\n",
       "      <td>Desire</td>\n",
       "      <td>/z/zwan/desire_20148986.html</td>\n",
       "      <td>northern star  \\r\\nam i frightened  \\r\\nwhere ...</td>\n",
       "    </tr>\n",
       "    <tr>\n",
       "      <th>57649</th>\n",
       "      <td>Zwan</td>\n",
       "      <td>Heartsong</td>\n",
       "      <td>/z/zwan/heartsong_20148991.html</td>\n",
       "      <td>come in  \\r\\nmake yourself at home  \\r\\ni'm a ...</td>\n",
       "    </tr>\n",
       "  </tbody>\n",
       "</table>\n",
       "</div>"
      ],
      "text/plain": [
       "             artist           song  \\\n",
       "57645  Ziggy Marley  Good Old Days   \n",
       "57646  Ziggy Marley  Hand To Mouth   \n",
       "57647          Zwan   Come With Me   \n",
       "57648          Zwan         Desire   \n",
       "57649          Zwan      Heartsong   \n",
       "\n",
       "                                              link  \\\n",
       "57645  /z/ziggy+marley/good+old+days_10198588.html   \n",
       "57646  /z/ziggy+marley/hand+to+mouth_20531167.html   \n",
       "57647           /z/zwan/come+with+me_20148981.html   \n",
       "57648                 /z/zwan/desire_20148986.html   \n",
       "57649              /z/zwan/heartsong_20148991.html   \n",
       "\n",
       "                                                    text  \n",
       "57645  Irie days come on play  \\r\\nLet the angels fly...  \n",
       "57646  Power to the workers  \\r\\nMore power  \\r\\nPowe...  \n",
       "57647  all you need  \\r\\nis something i'll believe  \\...  \n",
       "57648  northern star  \\r\\nam i frightened  \\r\\nwhere ...  \n",
       "57649  come in  \\r\\nmake yourself at home  \\r\\ni'm a ...  "
      ]
     },
     "execution_count": 4,
     "metadata": {},
     "output_type": "execute_result"
    }
   ],
   "source": [
    "df.tail()"
   ]
  },
  {
   "cell_type": "code",
   "execution_count": 5,
   "id": "3fbd3a18-1ee4-449b-b2d7-953d2270b7fe",
   "metadata": {},
   "outputs": [
    {
     "data": {
      "text/plain": [
       "(57650, 4)"
      ]
     },
     "execution_count": 5,
     "metadata": {},
     "output_type": "execute_result"
    }
   ],
   "source": [
    "df.shape"
   ]
  },
  {
   "cell_type": "code",
   "execution_count": 6,
   "id": "4686b50e-f6d2-4d90-960a-1e02600d4f29",
   "metadata": {},
   "outputs": [
    {
     "data": {
      "text/plain": [
       "artist    0\n",
       "song      0\n",
       "link      0\n",
       "text      0\n",
       "dtype: int64"
      ]
     },
     "execution_count": 6,
     "metadata": {},
     "output_type": "execute_result"
    }
   ],
   "source": [
    "df.isnull().sum()"
   ]
  },
  {
   "cell_type": "code",
   "execution_count": 7,
   "id": "52e3af77-9a78-4a21-8ce8-355916e601c5",
   "metadata": {},
   "outputs": [],
   "source": [
    "df=df.sample(5000).drop(\"link\",axis=1).reset_index(drop=True)"
   ]
  },
  {
   "cell_type": "code",
   "execution_count": 8,
   "id": "1e9bc7ca-5fd6-49bd-a814-8bdcb7d33224",
   "metadata": {},
   "outputs": [
    {
     "data": {
      "text/plain": [
       "\"There's only us, there's only this  \\r\\nForget regret, or life is your's to miss  \\r\\nNo other path, no other way  \\r\\nNo day but today  \\r\\n  \\r\\nThere's only us, only tonight  \\r\\nWe must let go to know what's right  \\r\\nNo other road, No other way  \\r\\nNo day but today  \\r\\n  \\r\\nI can't control my destiny  \\r\\nI trust my soul, my only goal  \\r\\nIs just to be  \\r\\n  \\r\\nThere's only now, there's only here  \\r\\nGive in to love or live in fear  \\r\\nNo other path, No other way  \\r\\nNo day but today  \\r\\n  \\r\\nThere's only us, There's only this  \\r\\nForget regret, or life is your's to miss  \\r\\nNo other road, no other way  \\r\\nNo day but today  \\r\\n  \\r\\nNo day but today  \\r\\n(No day but today)  \\r\\nNo day but today  \\r\\n(No day but today)  \\r\\nNo day but today  \\r\\n(No day but today)  \\r\\nNo day but today\\r\\n\\r\\n\""
      ]
     },
     "execution_count": 8,
     "metadata": {},
     "output_type": "execute_result"
    }
   ],
   "source": [
    "df['text'][0]"
   ]
  },
  {
   "cell_type": "code",
   "execution_count": null,
   "id": "e0352b5f-4fea-4b77-a137-c70c0110299f",
   "metadata": {},
   "outputs": [],
   "source": []
  },
  {
   "cell_type": "code",
   "execution_count": 9,
   "id": "85c0349a-25d7-4b99-a74f-4af565fdeb12",
   "metadata": {},
   "outputs": [
    {
     "data": {
      "text/plain": [
       "(5000, 3)"
      ]
     },
     "execution_count": 9,
     "metadata": {},
     "output_type": "execute_result"
    }
   ],
   "source": [
    "df.shape"
   ]
  },
  {
   "cell_type": "markdown",
   "id": "7b1e4be8-2ccd-4c6b-9ea7-3d3f8f0a34bd",
   "metadata": {},
   "source": [
    "Text Cleaning / text Preprocessing"
   ]
  },
  {
   "cell_type": "code",
   "execution_count": 10,
   "id": "3ecb0de4-090a-43df-a2b1-0ca2bab77088",
   "metadata": {},
   "outputs": [],
   "source": [
    "df['text']=df['text'].str.lower().replace(r'^\\w\\s', '').replace(r'\\n', '' ,regex=True)"
   ]
  },
  {
   "cell_type": "code",
   "execution_count": 11,
   "id": "c445bf51-16b2-4464-abce-26d9c83f20af",
   "metadata": {},
   "outputs": [
    {
     "data": {
      "text/html": [
       "<div>\n",
       "<style scoped>\n",
       "    .dataframe tbody tr th:only-of-type {\n",
       "        vertical-align: middle;\n",
       "    }\n",
       "\n",
       "    .dataframe tbody tr th {\n",
       "        vertical-align: top;\n",
       "    }\n",
       "\n",
       "    .dataframe thead th {\n",
       "        text-align: right;\n",
       "    }\n",
       "</style>\n",
       "<table border=\"1\" class=\"dataframe\">\n",
       "  <thead>\n",
       "    <tr style=\"text-align: right;\">\n",
       "      <th></th>\n",
       "      <th>artist</th>\n",
       "      <th>song</th>\n",
       "      <th>text</th>\n",
       "    </tr>\n",
       "  </thead>\n",
       "  <tbody>\n",
       "    <tr>\n",
       "      <th>4995</th>\n",
       "      <td>Nickelback</td>\n",
       "      <td>Shakin' Hands</td>\n",
       "      <td>(hey, hey) she had her eyes on the prize as th...</td>\n",
       "    </tr>\n",
       "    <tr>\n",
       "      <th>4996</th>\n",
       "      <td>Donna Summer</td>\n",
       "      <td>Born To Die</td>\n",
       "      <td>just a baby  \\ron a doorstep  \\rit's how they ...</td>\n",
       "    </tr>\n",
       "    <tr>\n",
       "      <th>4997</th>\n",
       "      <td>Foo Fighters</td>\n",
       "      <td>Throwing Needles</td>\n",
       "      <td>what's there at the door that changed my life ...</td>\n",
       "    </tr>\n",
       "    <tr>\n",
       "      <th>4998</th>\n",
       "      <td>Dewa 19</td>\n",
       "      <td>Sweetest Place</td>\n",
       "      <td>this is the sweetest place  \\rbaring my feelin...</td>\n",
       "    </tr>\n",
       "    <tr>\n",
       "      <th>4999</th>\n",
       "      <td>Vince Gill</td>\n",
       "      <td>Nothing Like A Woman</td>\n",
       "      <td>oh there's nothin' like a woman  \\rwhen you're...</td>\n",
       "    </tr>\n",
       "  </tbody>\n",
       "</table>\n",
       "</div>"
      ],
      "text/plain": [
       "            artist                  song  \\\n",
       "4995    Nickelback         Shakin' Hands   \n",
       "4996  Donna Summer           Born To Die   \n",
       "4997  Foo Fighters      Throwing Needles   \n",
       "4998       Dewa 19        Sweetest Place   \n",
       "4999    Vince Gill  Nothing Like A Woman   \n",
       "\n",
       "                                                   text  \n",
       "4995  (hey, hey) she had her eyes on the prize as th...  \n",
       "4996  just a baby  \\ron a doorstep  \\rit's how they ...  \n",
       "4997  what's there at the door that changed my life ...  \n",
       "4998  this is the sweetest place  \\rbaring my feelin...  \n",
       "4999  oh there's nothin' like a woman  \\rwhen you're...  "
      ]
     },
     "execution_count": 11,
     "metadata": {},
     "output_type": "execute_result"
    }
   ],
   "source": [
    "df.tail(5)"
   ]
  },
  {
   "cell_type": "code",
   "execution_count": 12,
   "id": "65d476b8-83fd-4d05-9070-e4e278726a06",
   "metadata": {},
   "outputs": [],
   "source": [
    "import nltk\n",
    "from nltk.stem.porter import PorterStemmer"
   ]
  },
  {
   "cell_type": "code",
   "execution_count": 13,
   "id": "5be0f4f0-c1d6-480d-bde3-e13acd9c3663",
   "metadata": {},
   "outputs": [],
   "source": [
    "stemmer=PorterStemmer()"
   ]
  },
  {
   "cell_type": "code",
   "execution_count": 14,
   "id": "48842240-2068-4edb-958e-e449addafdb6",
   "metadata": {},
   "outputs": [],
   "source": [
    "def token(txt):\n",
    "    token=nltk.word_tokenize(txt)\n",
    "    a=[stemmer.stem(w) for w in token]\n",
    "    return \" \".join(a)"
   ]
  },
  {
   "cell_type": "code",
   "execution_count": 15,
   "id": "af09870c-6eae-49c3-a85b-ac8efe0eb3d4",
   "metadata": {},
   "outputs": [
    {
     "data": {
      "text/plain": [
       "'you are beauti , beauti'"
      ]
     },
     "execution_count": 15,
     "metadata": {},
     "output_type": "execute_result"
    }
   ],
   "source": [
    "token(\"you are beautiful,beauty\")"
   ]
  },
  {
   "cell_type": "code",
   "execution_count": 16,
   "id": "88dedbb5-8e2c-4bec-95ad-cba6b1fd5d16",
   "metadata": {},
   "outputs": [
    {
     "data": {
      "text/plain": [
       "0       there 's onli us , there 's onli thi forget re...\n",
       "1       did you get your race card ? i did n't get my ...\n",
       "2       i feel so close to you 'caus you know you alwa...\n",
       "3       i get deep , i get deep , i get deep , i get d...\n",
       "4       i found a black beret on the street today it w...\n",
       "                              ...                        \n",
       "4995    ( hey , hey ) she had her eye on the prize as ...\n",
       "4996    just a babi on a doorstep it 's how they found...\n",
       "4997    what 's there at the door that chang my life w...\n",
       "4998    thi is the sweetest place bare my feel i 'm we...\n",
       "4999    oh there 's nothin ' like a woman when you 're...\n",
       "Name: text, Length: 5000, dtype: object"
      ]
     },
     "execution_count": 16,
     "metadata": {},
     "output_type": "execute_result"
    }
   ],
   "source": [
    "df[\"text\"].apply(lambda x: token(x))"
   ]
  },
  {
   "cell_type": "code",
   "execution_count": 17,
   "id": "2e838dd8-0a19-4407-bb16-866252f54c88",
   "metadata": {},
   "outputs": [],
   "source": [
    "from sklearn.feature_extraction.text import TfidfVectorizer\n",
    "from sklearn.metrics.pairwise import cosine_similarity"
   ]
  },
  {
   "cell_type": "code",
   "execution_count": 18,
   "id": "45906427-de60-489a-a37f-a476d7d978ea",
   "metadata": {},
   "outputs": [],
   "source": [
    "tfid=TfidfVectorizer(analyzer='word',stop_words='english')"
   ]
  },
  {
   "cell_type": "code",
   "execution_count": 19,
   "id": "42724034-1240-46e5-8991-3bc048fbb271",
   "metadata": {},
   "outputs": [],
   "source": [
    "matrix=tfid.fit_transform(df['text'])"
   ]
  },
  {
   "cell_type": "code",
   "execution_count": 20,
   "id": "d96c5dea-6166-4f0b-a30a-ceef245b61ff",
   "metadata": {},
   "outputs": [],
   "source": [
    "similer=cosine_similarity(matrix)"
   ]
  },
  {
   "cell_type": "code",
   "execution_count": 21,
   "id": "77884e53-15d2-4877-a8fe-e9100393bd2a",
   "metadata": {},
   "outputs": [
    {
     "data": {
      "text/plain": [
       "array([1.        , 0.00594108, 0.10714463, ..., 0.06753898, 0.01494817,\n",
       "       0.        ])"
      ]
     },
     "execution_count": 21,
     "metadata": {},
     "output_type": "execute_result"
    }
   ],
   "source": [
    "similer[0]"
   ]
  },
  {
   "cell_type": "code",
   "execution_count": 23,
   "id": "d77e1301-0928-495b-808e-e2ca6f50982b",
   "metadata": {},
   "outputs": [
    {
     "data": {
      "text/plain": [
       "4996"
      ]
     },
     "execution_count": 23,
     "metadata": {},
     "output_type": "execute_result"
    }
   ],
   "source": [
    "df[df['song']=='Born To Die'].index[0]"
   ]
  },
  {
   "cell_type": "markdown",
   "id": "c891355b-16da-44a0-b3e9-563b17ac79f1",
   "metadata": {},
   "source": [
    "Recommender function"
   ]
  },
  {
   "cell_type": "code",
   "execution_count": 24,
   "id": "c5801122-cfb4-40b0-9c36-e2982cc24441",
   "metadata": {},
   "outputs": [],
   "source": [
    "def recommender(song_name):\n",
    "    idx=df[df['song']==song_name].index[0]\n",
    "    distance=sorted(list(enumerate(similer[idx])),reverse=True,key=lambda x:x[1])\n",
    "    song=[]\n",
    "    for s_id in distance[1:21]:\n",
    "        song.append(df.iloc[s_id[0]].song)\n",
    "    return song"
   ]
  },
  {
   "cell_type": "code",
   "execution_count": 27,
   "id": "23ca5adf-dd81-4477-8cc8-f8715650c5ac",
   "metadata": {},
   "outputs": [
    {
     "data": {
      "text/plain": [
       "['Just Born',\n",
       " 'Born To Lose',\n",
       " 'Born To Lose',\n",
       " \"We're All Gonna Die\",\n",
       " 'Born To Be Somebody',\n",
       " 'Children Go Where I Send Thee',\n",
       " 'The Beloved',\n",
       " 'Someday Man',\n",
       " 'Born To Be Wild',\n",
       " \"I Can't Give You More\",\n",
       " 'I Am A Man Of Constant Sorrow',\n",
       " 'House On The Ocean',\n",
       " 'Our Diabolical Rapture',\n",
       " \"Please Don't Die\",\n",
       " 'Everybody Wants To Go To Heaven',\n",
       " \"I'm A Woman\",\n",
       " 'I Am A Man Of Constant Sorrow',\n",
       " 'Born As Ghosts',\n",
       " 'Only The Good Die Young',\n",
       " 'Born To Hand Jive']"
      ]
     },
     "execution_count": 27,
     "metadata": {},
     "output_type": "execute_result"
    }
   ],
   "source": [
    "recommender('Born To Die')"
   ]
  },
  {
   "cell_type": "code",
   "execution_count": 28,
   "id": "70aac59b-f465-4afb-8cf1-bc43c36a8ba9",
   "metadata": {},
   "outputs": [],
   "source": [
    "import pickle"
   ]
  },
  {
   "cell_type": "code",
   "execution_count": 29,
   "id": "4e21cb82-3f07-4661-8c8a-d85724d95b29",
   "metadata": {},
   "outputs": [],
   "source": [
    "pickle.dump(similer, open('similarity.pkl', 'wb'))"
   ]
  },
  {
   "cell_type": "code",
   "execution_count": 30,
   "id": "2776b409-ee5e-4fa5-b795-2915dfa0fc3c",
   "metadata": {},
   "outputs": [],
   "source": [
    "pickle.dump(df, open(\"df.pkl\", \"wb\"))"
   ]
  },
  {
   "cell_type": "code",
   "execution_count": null,
   "id": "a302cd01-3df4-4224-8913-324e4fec194f",
   "metadata": {},
   "outputs": [],
   "source": []
  }
 ],
 "metadata": {
  "kernelspec": {
   "display_name": "Python 3",
   "language": "python",
   "name": "python3"
  },
  "language_info": {
   "codemirror_mode": {
    "name": "ipython",
    "version": 3
   },
   "file_extension": ".py",
   "mimetype": "text/x-python",
   "name": "python",
   "nbconvert_exporter": "python",
   "pygments_lexer": "ipython3",
   "version": "3.11.4"
  }
 },
 "nbformat": 4,
 "nbformat_minor": 5
}
